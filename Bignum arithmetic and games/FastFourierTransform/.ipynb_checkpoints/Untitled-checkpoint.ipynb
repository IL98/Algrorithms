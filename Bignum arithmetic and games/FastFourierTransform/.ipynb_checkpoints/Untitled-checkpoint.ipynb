{
 "cells": [
  {
   "cell_type": "code",
   "execution_count": null,
   "metadata": {},
   "outputs": [],
   "source": [
    "import matplotlib.pyplot as plt\n",
    "import numpy as np\n",
    "import math \n",
    "\n",
    "%config IPCompleter.greedy=True\n",
    "\n",
    "\n",
    "x = np.linspace(0, 10, 10)\n",
    "y = np.sin(x)\n",
    "\n",
    "plt.plot(x, y)\n"
   ]
  },
  {
   "cell_type": "code",
   "execution_count": 3,
   "metadata": {},
   "outputs": [
    {
     "name": "stdout",
     "output_type": "stream",
     "text": [
      "[  2.23402143e-02   4.46804279e-02   6.70206402e-02   8.93608504e-02\n",
      "   1.11701058e-01   1.34041262e-01   1.56381462e-01   1.78721657e-01\n",
      "   2.01061847e-01   2.23402031e-01   2.45742208e-01   2.68082377e-01\n",
      "   2.90422538e-01   3.12762691e-01   3.35102834e-01   3.57442966e-01\n",
      "   3.79783088e-01   4.02123198e-01   4.24463296e-01   4.46803381e-01\n",
      "   4.69143453e-01   4.91483510e-01   5.13823552e-01   5.36163578e-01\n",
      "   5.58503588e-01   5.80843582e-01   6.03183557e-01   6.25523514e-01\n",
      "   6.47863452e-01   6.70203370e-01   6.92543268e-01   7.14883145e-01\n",
      "   7.37223000e-01   7.59562833e-01   7.81902642e-01   8.04242428e-01\n",
      "   8.26582189e-01   8.48921925e-01   8.71261635e-01   8.93601318e-01\n",
      "   9.15940974e-01   9.38280603e-01   9.60620203e-01   9.82959773e-01\n",
      "   1.00529931e+00   1.02763882e+00   1.04997830e+00   1.07231775e+00\n",
      "   1.09465716e+00   1.11699654e+00   1.13933589e+00   1.16167520e+00\n",
      "   1.18401448e+00   1.20635372e+00   1.22869292e+00   1.25103209e+00\n",
      "   1.27337122e+00   1.29571031e+00   1.31804936e+00   1.34038837e+00\n",
      "   1.36272734e+00   1.38506626e+00   1.40740515e+00   1.42974399e+00\n",
      "   1.45208279e+00   1.47442154e+00   1.49676025e+00   1.51909892e+00\n",
      "   1.54143754e+00   1.56377611e+00   1.58611463e+00   1.60845311e+00\n",
      "   1.63079153e+00   1.65312991e+00   1.67546823e+00   1.69780651e+00\n",
      "   1.72014473e+00   1.74248290e+00   1.76482102e+00   1.78715908e+00\n",
      "   1.80949709e+00   1.83183505e+00   1.85417295e+00   1.87651079e+00\n",
      "   1.89884857e+00   1.92118630e+00   1.94352397e+00   1.96586158e+00\n",
      "   1.98819913e+00   2.01053662e+00   2.03287404e+00   2.05521141e+00\n",
      "   2.07754871e+00   2.09988595e+00   2.12222313e+00   2.14456024e+00\n",
      "   2.16689729e+00   2.18923426e+00   2.21157118e+00  -1.05471187e-15\n",
      "   0.00000000e+00  -3.88578059e-16  -6.10622664e-16  -9.43689571e-16\n",
      "  -4.99600361e-16  -9.99200722e-16  -1.22124533e-15  -1.66533454e-15\n",
      "  -3.33066907e-16  -8.88178420e-16  -1.22124533e-15  -1.33226763e-15\n",
      "  -7.77156117e-16  -1.11022302e-15  -1.66533454e-15  -1.77635684e-15\n",
      "  -4.44089210e-16  -1.11022302e-15  -1.33226763e-15  -1.77635684e-15\n",
      "  -1.22124533e-15  -1.66533454e-15  -1.77635684e-15  -2.33146835e-15\n",
      "  -8.88178420e-16  -1.66533454e-15  -1.66533454e-15  -2.10942375e-15]\n"
     ]
    }
   ],
   "source": [
    "import matplotlib.pyplot as plt\n",
    "import numpy as np\n",
    "import cmath\n",
    "import math\n",
    "\n",
    "%config IPCompleter.greedy=True\n",
    "\n",
    "def power_two(n):\n",
    "    return (n and ((n & (n - 1)) == 0))\n",
    "\n",
    "def increase_power_two(a):\n",
    "    while (power_two(len(a)) == False):\n",
    "        a.append(0)    \n",
    "    return a\n",
    "\n",
    "\n",
    "def FFT(vector):\n",
    "    h_vector = vector[:]\n",
    "    general_fft(increase_power_two(h_vector), False)\n",
    "    return h_vector\n",
    "    \n",
    "def FFTReverse(vector):\n",
    "    h_vector = vector[:]\n",
    "    general_fft(increase_power_two(h_vector), True)\n",
    "    for i in range(len(vector)):\n",
    "        vector[i] /= len(vector)\n",
    "    return h_vector    \n",
    "\n",
    "def general_fft(vector, reverse):\n",
    "    n = len(vector)\n",
    "    if (n == 1):\n",
    "        return\n",
    "    #odd - нечетный\n",
    "    vector_odd = []\n",
    "    #even - четный\n",
    "    vector_even = []\n",
    "\n",
    "    for i in range(0, n, 2):\n",
    "        vector_even.append(vector[i])\n",
    "        vector_odd.append(vector[i + 1])\n",
    "        \n",
    "    \n",
    "    general_fft(vector_even, reverse)\n",
    "    general_fft(vector_odd, reverse)\n",
    "    \n",
    "    angle = (-2) * np.pi/n\n",
    "    if (reverse):\n",
    "        angle *= (-1)\n",
    "        \n",
    "    var_w = complex(math.cos(angle), math.sin(angle))\n",
    "    w = complex(1)\n",
    "    \n",
    "    for i in range(0, n//2):\n",
    "        vector[i] = vector_even[i] +  w * vector_odd[i]\n",
    "        vector[i + n//2] = vector_even[i] - w * vector_odd[i]                   \n",
    "        w *= var_w   \n",
    "      \n",
    "    \n",
    "                             \n",
    "x = [i/100 for i in range(1, 100)]\n",
    "y = [math.sin(i*np.pi/180) for i in x]\n",
    "#y = [math.sin(i*np.pi/180)i for i in x]\n",
    "#y = [i*i for i in x]\n",
    "#y = [i for i in x]\n",
    "\n",
    "#print(a)\n",
    "g = FFT(y)\n",
    "\n",
    "f = FFTReverse(g)\n",
    "\n",
    "\n",
    "print(np.array(f).real)\n",
    "\n",
    "\n",
    "# plt.plot(x,np.array(f).real, x, y)\n",
    "# plt.show()\n",
    "\n"
   ]
  },
  {
   "cell_type": "code",
   "execution_count": 2,
   "metadata": {},
   "outputs": [
    {
     "ename": "NameError",
     "evalue": "name 'FFT' is not defined",
     "output_type": "error",
     "traceback": [
      "\u001b[0;31m---------------------------------------------------------------------------\u001b[0m",
      "\u001b[0;31mNameError\u001b[0m                                 Traceback (most recent call last)",
      "\u001b[0;32m<ipython-input-2-9c610cb0388f>\u001b[0m in \u001b[0;36m<module>\u001b[0;34m()\u001b[0m\n\u001b[0;32m----> 1\u001b[0;31m \u001b[0mg\u001b[0m \u001b[0;34m=\u001b[0m \u001b[0mFFT\u001b[0m\u001b[0;34m(\u001b[0m\u001b[0my\u001b[0m\u001b[0;34m)\u001b[0m\u001b[0;34m\u001b[0m\u001b[0m\n\u001b[0m\u001b[1;32m      2\u001b[0m \u001b[0;34m\u001b[0m\u001b[0m\n\u001b[1;32m      3\u001b[0m \u001b[0mf\u001b[0m \u001b[0;34m=\u001b[0m \u001b[0mFFTReverse\u001b[0m\u001b[0;34m(\u001b[0m\u001b[0mg\u001b[0m\u001b[0;34m)\u001b[0m\u001b[0;34m\u001b[0m\u001b[0m\n\u001b[1;32m      4\u001b[0m \u001b[0;34m\u001b[0m\u001b[0m\n\u001b[1;32m      5\u001b[0m \u001b[0;34m\u001b[0m\u001b[0m\n",
      "\u001b[0;31mNameError\u001b[0m: name 'FFT' is not defined"
     ]
    }
   ],
   "source": []
  },
  {
   "cell_type": "code",
   "execution_count": 126,
   "metadata": {},
   "outputs": [
    {
     "name": "stdout",
     "output_type": "stream",
     "text": [
      "[1, 2, 3, 4, 5, 0, 0, 0]\n"
     ]
    }
   ],
   "source": [
    "a =  [1, 2, 3, 4, 5, 0 , 0 ,0]\n",
    "fft = np.fft.fft(a)\n",
    "ifft = np.fft.ifft(fft)\n",
    "\n",
    "\n",
    "print(a)"
   ]
  },
  {
   "cell_type": "code",
   "execution_count": 57,
   "metadata": {},
   "outputs": [
    {
     "name": "stdout",
     "output_type": "stream",
     "text": [
      "5\n",
      "[1, 2, 3, 4, 5]\n"
     ]
    }
   ],
   "source": []
  },
  {
   "cell_type": "code",
   "execution_count": 4,
   "metadata": {},
   "outputs": [
    {
     "name": "stdout",
     "output_type": "stream",
     "text": [
      "2.0.2\n"
     ]
    }
   ],
   "source": [
    "import matplotlib\n",
    "\n",
    "print(matplotlib.__version__)"
   ]
  },
  {
   "cell_type": "code",
   "execution_count": null,
   "metadata": {
    "collapsed": true
   },
   "outputs": [],
   "source": []
  }
 ],
 "metadata": {
  "kernelspec": {
   "display_name": "Python 3",
   "language": "python",
   "name": "python3"
  },
  "language_info": {
   "codemirror_mode": {
    "name": "ipython",
    "version": 3
   },
   "file_extension": ".py",
   "mimetype": "text/x-python",
   "name": "python",
   "nbconvert_exporter": "python",
   "pygments_lexer": "ipython3",
   "version": "3.5.2"
  }
 },
 "nbformat": 4,
 "nbformat_minor": 2
}
