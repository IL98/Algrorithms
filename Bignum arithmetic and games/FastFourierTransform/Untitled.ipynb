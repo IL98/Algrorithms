{
 "cells": [
  {
   "cell_type": "code",
   "execution_count": null,
   "metadata": {},
   "outputs": [],
   "source": [
    "import matplotlib.pyplot as plt\n",
    "import numpy as np\n",
    "import math \n",
    "\n",
    "%config IPCompleter.greedy=True\n",
    "\n",
    "\n",
    "x = np.linspace(0, 10, 10)\n",
    "y = np.sin(x)\n",
    "\n",
    "plt.plot(x, y, label = \"f\")\n",
    "\n",
    "plt.legend()\n",
    "plt.show()\n"
   ]
  },
  {
   "cell_type": "code",
   "execution_count": 7,
   "metadata": {},
   "outputs": [
    {
     "name": "stdout",
     "output_type": "stream",
     "text": [
      "[1, 2, 3, 4, 5, 6, 7, 8, 9, 10, 11, 12, 13, 14, 15, 16, 17, 18, 19, 20, 21, 22, 23, 24, 25, 26, 27, 28, 29, 30, 31, 32, 33, 34, 35, 36, 37, 38, 39, 40, 41, 42, 43, 44, 45, 46, 47, 48, 49, 50, 51, 52, 53, 54, 55, 56, 57, 58, 59, 60, 61, 62, 63, 64, 65, 66, 67, 68, 69, 70, 71, 72, 73, 74, 75, 76, 77, 78, 79, 80, 81, 82, 83, 84, 85, 86, 87, 88, 89, 90, 91, 92, 93, 94, 95, 96, 97, 98, 99]\n",
      "[ 19.56057461  20.78341505  21.96100459  23.09291541  24.17882973\n",
      "  25.21854057  26.21195225  27.15908067  28.06005318  28.91510835\n",
      "  29.72459537  30.48897319  31.20880947  31.88477912  32.51766278\n",
      "  33.10834485  33.65781142  34.16714787  34.63753624  35.07025241\n",
      "  35.46666303  35.82822219  36.15646794  36.45301862  36.71956888\n",
      "  36.95788568  37.16980397  37.35722231  37.52209828  37.66644377\n",
      "  37.79232013  37.90183319  37.99712822  38.08038473  38.15381124\n",
      "  38.21963993  38.28012133  38.33751879  38.39410315  38.45214716\n",
      "  38.51392009  38.5816822   38.65767933  38.7441375   38.8432575\n",
      "  38.95720964  39.08812847  39.23810769  39.40919508  39.60338756\n",
      "  39.82262639  40.06879249  40.34370191  40.64910147  40.98666451\n",
      "  41.3579869   41.76458318  42.20788292  42.68922725  43.20986566\n",
      "  43.77095298  44.37354658  45.01860385  45.70697987  46.43942539\n",
      "  47.21658495  48.03899541  48.90708459  49.82117027  50.78145943\n",
      "  51.78804775  52.84091933  53.93994682  55.08489165  56.27540463\n",
      "  57.51102681  58.79119053  60.11522088  61.48233722  62.89165515\n",
      "  64.34218858  65.83285213  67.36246376  68.92974759  70.53333697\n",
      "  72.17177781  73.84353206  75.54698138  77.28043112  79.04211432\n",
      "  80.83019603  82.64277769  84.47790172  86.33355623  88.20767987\n",
      "  90.09816681  92.00287178  93.91961527  95.84618876]\n"
     ]
    }
   ],
   "source": [
    "import matplotlib.pyplot as plt\n",
    "import numpy as np\n",
    "import cmath\n",
    "import math\n",
    "\n",
    "%config IPCompleter.greedy=True\n",
    "\n",
    "def power_two(n):\n",
    "    return (n and ((n & (n - 1)) == 0))\n",
    "\n",
    "def increase_power_two(a):\n",
    "    while (power_two(len(a)) == False):\n",
    "        a.append(0)    \n",
    "    return a\n",
    "\n",
    "\n",
    "def FFT(vector):\n",
    "    h_vector = vector[:]\n",
    "    general_fft(increase_power_two(h_vector), False)\n",
    "    return h_vector\n",
    "    \n",
    "def FFTReverse(vector):\n",
    "    h_vector = vector[:]\n",
    "    general_fft(increase_power_two(h_vector), True)\n",
    "    for i in range(len(h_vector)):\n",
    "        h_vector[i] /= len(h_vector)\n",
    "    return h_vector    \n",
    "\n",
    "def general_fft(vector, reverse):\n",
    "    n = len(vector)\n",
    "    if (n == 1):\n",
    "        return\n",
    "    #odd - нечетный\n",
    "    vector_odd = []\n",
    "    #even - четный\n",
    "    vector_even = []\n",
    "\n",
    "    for i in range(0, n, 2):\n",
    "        vector_even.append(vector[i])\n",
    "        vector_odd.append(vector[i + 1])\n",
    "        \n",
    "    \n",
    "    general_fft(vector_even, reverse)\n",
    "    general_fft(vector_odd, reverse)\n",
    "    \n",
    "    angle = (-2) * np.pi/n\n",
    "    if (reverse):\n",
    "        angle *= (-1)\n",
    "        \n",
    "    var_w = complex(math.cos(angle), math.sin(angle))\n",
    "    w = complex(1)\n",
    "    \n",
    "    for i in range(0, n//2):\n",
    "        vector[i] = vector_even[i] +  w * vector_odd[i]\n",
    "        vector[i + n//2] = vector_even[i] - w * vector_odd[i]                   \n",
    "        w *= var_w   \n",
    "      \n",
    "    \n",
    "                             \n",
    "x = [i for i in range(1, 100)]\n",
    "#y = [math.sin(i*np.pi/180) for i in x]\n",
    "#y = [math.sin(i*np.pi/180)/i for i in x]\n",
    "#y = [i*i for i in x]\n",
    "#y = [math.sin(i*i) for i in x]\n",
    "y = [i for i in x]\n",
    "\n",
    "#print(a)\n",
    "g = FFT(y)\n",
    "g[-1:] = [0]*1\n",
    "f = FFTReverse(g)\n",
    "f = f[:len(x)]\n",
    "\n",
    "\n",
    "print(y)\n",
    "print(np.array(f).real)\n",
    "\n",
    "\n",
    "# plt.plot(x,np.array(f).real, x, y)\n",
    "# plt.show()\n",
    "\n"
   ]
  },
  {
   "cell_type": "code",
   "execution_count": 2,
   "metadata": {},
   "outputs": [
    {
     "ename": "NameError",
     "evalue": "name 'FFT' is not defined",
     "output_type": "error",
     "traceback": [
      "\u001b[0;31m---------------------------------------------------------------------------\u001b[0m",
      "\u001b[0;31mNameError\u001b[0m                                 Traceback (most recent call last)",
      "\u001b[0;32m<ipython-input-2-9c610cb0388f>\u001b[0m in \u001b[0;36m<module>\u001b[0;34m()\u001b[0m\n\u001b[0;32m----> 1\u001b[0;31m \u001b[0mg\u001b[0m \u001b[0;34m=\u001b[0m \u001b[0mFFT\u001b[0m\u001b[0;34m(\u001b[0m\u001b[0my\u001b[0m\u001b[0;34m)\u001b[0m\u001b[0;34m\u001b[0m\u001b[0m\n\u001b[0m\u001b[1;32m      2\u001b[0m \u001b[0;34m\u001b[0m\u001b[0m\n\u001b[1;32m      3\u001b[0m \u001b[0mf\u001b[0m \u001b[0;34m=\u001b[0m \u001b[0mFFTReverse\u001b[0m\u001b[0;34m(\u001b[0m\u001b[0mg\u001b[0m\u001b[0;34m)\u001b[0m\u001b[0;34m\u001b[0m\u001b[0m\n\u001b[1;32m      4\u001b[0m \u001b[0;34m\u001b[0m\u001b[0m\n\u001b[1;32m      5\u001b[0m \u001b[0;34m\u001b[0m\u001b[0m\n",
      "\u001b[0;31mNameError\u001b[0m: name 'FFT' is not defined"
     ]
    }
   ],
   "source": []
  },
  {
   "cell_type": "code",
   "execution_count": 8,
   "metadata": {},
   "outputs": [
    {
     "name": "stdout",
     "output_type": "stream",
     "text": [
      "[1, 2, 3, 4, 5, 0, 0, 0]\n"
     ]
    }
   ],
   "source": [
    "a =  [1, 2, 3, 4, 5, 0 , 0, 0]\n",
    "fft = np.fft.fft(a)\n",
    "ifft = np.fft.ifft(fft)\n",
    "\n",
    "\n",
    "print(a)"
   ]
  },
  {
   "cell_type": "code",
   "execution_count": 57,
   "metadata": {},
   "outputs": [
    {
     "name": "stdout",
     "output_type": "stream",
     "text": [
      "5\n",
      "[1, 2, 3, 4, 5]\n"
     ]
    }
   ],
   "source": []
  },
  {
   "cell_type": "code",
   "execution_count": 4,
   "metadata": {},
   "outputs": [
    {
     "name": "stdout",
     "output_type": "stream",
     "text": [
      "2.0.2\n"
     ]
    }
   ],
   "source": [
    "import matplotlib\n",
    "\n",
    "print(matplotlib.__version__)"
   ]
  },
  {
   "cell_type": "code",
   "execution_count": null,
   "metadata": {
    "collapsed": true
   },
   "outputs": [],
   "source": []
  }
 ],
 "metadata": {
  "kernelspec": {
   "display_name": "Python 3",
   "language": "python",
   "name": "python3"
  },
  "language_info": {
   "codemirror_mode": {
    "name": "ipython",
    "version": 3
   },
   "file_extension": ".py",
   "mimetype": "text/x-python",
   "name": "python",
   "nbconvert_exporter": "python",
   "pygments_lexer": "ipython3",
   "version": "3.5.2"
  }
 },
 "nbformat": 4,
 "nbformat_minor": 2
}
